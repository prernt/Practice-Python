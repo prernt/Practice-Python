{
 "cells": [
  {
   "cell_type": "code",
   "execution_count": 1,
   "id": "b01411b0",
   "metadata": {},
   "outputs": [],
   "source": [
    "with open(\"simple-english-wikipedia.txt\",'r', encoding=\"UTF-8\") as f:\n",
    "   content = f.read().lower()"
   ]
  },
  {
   "cell_type": "code",
   "execution_count": 2,
   "id": "aa94d288",
   "metadata": {},
   "outputs": [
    {
     "name": "stdout",
     "output_type": "stream",
     "text": [
      "the simple english wikipedia is an english language version of wikipedia an online encyclopedia that is written in basic english it was built on november 17 2003 all of the articles in the simple english wikipedia need to use shorter sentences and easier words and grammar than the regular english wikipedia people with different needs use the simple english wikipedia they include students children adults who might find it hard to learn or read people who are learning english as a second language other people use the simple english wikipedia because the basic language helps them understand hard ideas or topics they do not know about many articles are shorter than the same articles in the english wikipedia technical subjects use some terms which are not simple editors try to explain these terms in a simple way this makes simple english articles a good way to understand difficult articles from the ordinary english wikipedia if someone cannot understand an idea in complex english they can read the simple english article when the simple english wikipedia began in 2003 the ordinary english wikipedia already had 150 000 articles and seven other wikipedias in other languages had over 15 000 articles since the other wikipedias already have so many articles most simple english articles take articles from other wikipedias and make them simple they are usually not new articles right now the simple english wikipedia has 128 492 articles as of december 2016 it was the 52nd largest wikipedia\n"
     ]
    }
   ],
   "source": [
    "import string\n",
    "import math\n",
    "import re\n",
    "content = re.sub('[^A-Za-z0-9]+', ' ', content)\n",
    "content = content.strip()\n",
    "print(content)"
   ]
  },
  {
   "cell_type": "code",
   "execution_count": 3,
   "id": "490c0478",
   "metadata": {},
   "outputs": [],
   "source": [
    "def wordLengthCalc(content):\n",
    "    wordLength = {}\n",
    "    count = 0\n",
    "    for word in content.split(\" \"):\n",
    "        count = count+1\n",
    "#         print(word)\n",
    "        wordLength[len(word)] = wordLength.get(len(word),0) + 1\n",
    "#         print(wordLength)\n",
    "    return wordLength"
   ]
  },
  {
   "cell_type": "code",
   "execution_count": 4,
   "id": "9e37fa27",
   "metadata": {},
   "outputs": [],
   "source": [
    "def charCountCalc(content):\n",
    "    charCount = {}\n",
    "    for ch in content.replace(\" \",\"\"):\n",
    "        charCount[ch] = charCount.get(ch,0)+1\n",
    "    return charCount"
   ]
  },
  {
   "cell_type": "code",
   "execution_count": 5,
   "id": "45fcf6a3",
   "metadata": {},
   "outputs": [],
   "source": [
    "def sumCalc(d): \n",
    "    s = sum(d.values())\n",
    "    return s"
   ]
  },
  {
   "cell_type": "code",
   "execution_count": 6,
   "id": "f9c8e253",
   "metadata": {},
   "outputs": [
    {
     "name": "stdout",
     "output_type": "stream",
     "text": [
      "247\n"
     ]
    }
   ],
   "source": [
    "wordLength = wordLengthCalc(content)\n",
    "charCount = charCountCalc(content)\n",
    "sumCharCount = sumCalc(charCount)\n",
    "sumWordLength = sumCalc(wordLength)\n",
    "print(sumWordLength)"
   ]
  },
  {
   "cell_type": "code",
   "execution_count": 7,
   "id": "7523fb23",
   "metadata": {},
   "outputs": [
    {
     "data": {
      "text/plain": [
       "{3: 50, 6: 21, 7: 34, 9: 17, 2: 32, 8: 23, 12: 1, 4: 36, 5: 24, 1: 3, 10: 6}"
      ]
     },
     "execution_count": 7,
     "metadata": {},
     "output_type": "execute_result"
    }
   ],
   "source": [
    "wordLength"
   ]
  },
  {
   "cell_type": "code",
   "execution_count": 8,
   "id": "640b9cd2",
   "metadata": {},
   "outputs": [
    {
     "data": {
      "text/plain": [
       "{'t': 85,\n",
       " 'h': 68,\n",
       " 'e': 169,\n",
       " 's': 94,\n",
       " 'i': 129,\n",
       " 'm': 32,\n",
       " 'p': 38,\n",
       " 'l': 70,\n",
       " 'n': 84,\n",
       " 'g': 33,\n",
       " 'w': 29,\n",
       " 'k': 19,\n",
       " 'd': 54,\n",
       " 'a': 104,\n",
       " 'u': 22,\n",
       " 'v': 5,\n",
       " 'r': 64,\n",
       " 'o': 51,\n",
       " 'f': 11,\n",
       " 'c': 33,\n",
       " 'y': 15,\n",
       " 'b': 9,\n",
       " '1': 5,\n",
       " '7': 1,\n",
       " '2': 6,\n",
       " '0': 12,\n",
       " '3': 2,\n",
       " 'j': 1,\n",
       " 'x': 2,\n",
       " '5': 3,\n",
       " '8': 1,\n",
       " '4': 1,\n",
       " '9': 1,\n",
       " '6': 1}"
      ]
     },
     "execution_count": 8,
     "metadata": {},
     "output_type": "execute_result"
    }
   ],
   "source": [
    "charCount"
   ]
  },
  {
   "cell_type": "code",
   "execution_count": 9,
   "id": "5b60b06a",
   "metadata": {},
   "outputs": [],
   "source": [
    "def cumulatProbListGenerator(cx,cy):\n",
    "    px = {}\n",
    "    sx = []\n",
    "    for key in cx:\n",
    "#         print(key)\n",
    "#         print(cx.get(key))\n",
    "        px[key] = px.get(key, round(cx.get(key)/cy, 5))\n",
    "    \n",
    "    for key, val in px.items(): \n",
    "        sx.append([key, val])\n",
    "        \n",
    "    for i in range(len(sx)-1):\n",
    "#     print(\"Previous : \", sx[i])\n",
    "#     print(\"Current : \", sx[i+1])\n",
    "        sx[i+1][1] = round((sx[i+1][1] + sx[i][1]),5)\n",
    "#     print(\"Final value is :\",sx[i+1])\n",
    "#     print(\"===================\")\n",
    "     \n",
    "    return px,sx"
   ]
  },
  {
   "cell_type": "code",
   "execution_count": 10,
   "id": "f88b5236",
   "metadata": {},
   "outputs": [],
   "source": [
    "def getBiggerValueThanR(r,sx):\n",
    "#     print(r)\n",
    "#     print(sorted_sx)\n",
    "    sorted_sx = sorted(sx, key=lambda d: d[1])\n",
    "    for i in range(0,len(sorted_sx)):\n",
    "        if(r<sorted_sx[i][1]):\n",
    "            break\n",
    "#     print(\"Finaly key is : \", key)\n",
    "    key = sorted_sx[i][0]\n",
    "#     print(\"key is : \" , key)\n",
    "    value = sorted_sx[i][1]\n",
    "#     print(\"value is: \", value)\n",
    "    return key,value   "
   ]
  },
  {
   "cell_type": "code",
   "execution_count": 11,
   "id": "79d028f3",
   "metadata": {},
   "outputs": [
    {
     "name": "stdout",
     "output_type": "stream",
     "text": [
      "Sum of Probability for CharCount 1.00001\n",
      "Sum of Probability for WordLength 1.00001\n"
     ]
    }
   ],
   "source": [
    "#Getting probabilities and cumulative probabilities for word length and character frequency\n",
    "char_px,char_sx = cumulatProbListGenerator(charCount,sumCharCount)\n",
    "word_px,word_sx = cumulatProbListGenerator(wordLength,sumWordLength)\n",
    "print(\"Sum of Probability for CharCount\", sum(char_px.values()))\n",
    "print(\"Sum of Probability for WordLength\", sum(word_px.values()))"
   ]
  },
  {
   "cell_type": "code",
   "execution_count": 12,
   "id": "d86f6a01",
   "metadata": {},
   "outputs": [
    {
     "data": {
      "text/plain": [
       "{'t': 0.06778,\n",
       " 'h': 0.05423,\n",
       " 'e': 0.13477,\n",
       " 's': 0.07496,\n",
       " 'i': 0.10287,\n",
       " 'm': 0.02552,\n",
       " 'p': 0.0303,\n",
       " 'l': 0.05582,\n",
       " 'n': 0.06699,\n",
       " 'g': 0.02632,\n",
       " 'w': 0.02313,\n",
       " 'k': 0.01515,\n",
       " 'd': 0.04306,\n",
       " 'a': 0.08293,\n",
       " 'u': 0.01754,\n",
       " 'v': 0.00399,\n",
       " 'r': 0.05104,\n",
       " 'o': 0.04067,\n",
       " 'f': 0.00877,\n",
       " 'c': 0.02632,\n",
       " 'y': 0.01196,\n",
       " 'b': 0.00718,\n",
       " '1': 0.00399,\n",
       " '7': 0.0008,\n",
       " '2': 0.00478,\n",
       " '0': 0.00957,\n",
       " '3': 0.00159,\n",
       " 'j': 0.0008,\n",
       " 'x': 0.00159,\n",
       " '5': 0.00239,\n",
       " '8': 0.0008,\n",
       " '4': 0.0008,\n",
       " '9': 0.0008,\n",
       " '6': 0.0008}"
      ]
     },
     "execution_count": 12,
     "metadata": {},
     "output_type": "execute_result"
    }
   ],
   "source": [
    "# Char Frequency probability\n",
    "char_px"
   ]
  },
  {
   "cell_type": "code",
   "execution_count": 13,
   "id": "626672be",
   "metadata": {},
   "outputs": [
    {
     "data": {
      "text/plain": [
       "{3: 0.20243,\n",
       " 6: 0.08502,\n",
       " 7: 0.13765,\n",
       " 9: 0.06883,\n",
       " 2: 0.12955,\n",
       " 8: 0.09312,\n",
       " 12: 0.00405,\n",
       " 4: 0.14575,\n",
       " 5: 0.09717,\n",
       " 1: 0.01215,\n",
       " 10: 0.02429}"
      ]
     },
     "execution_count": 13,
     "metadata": {},
     "output_type": "execute_result"
    }
   ],
   "source": [
    "# WOrd Length probability\n",
    "word_px"
   ]
  },
  {
   "cell_type": "code",
   "execution_count": 14,
   "id": "f5d87ee4",
   "metadata": {},
   "outputs": [
    {
     "data": {
      "text/plain": [
       "[['t', 0.06778],\n",
       " ['h', 0.12201],\n",
       " ['e', 0.25678],\n",
       " ['s', 0.33174],\n",
       " ['i', 0.43461],\n",
       " ['m', 0.46013],\n",
       " ['p', 0.49043],\n",
       " ['l', 0.54625],\n",
       " ['n', 0.61324],\n",
       " ['g', 0.63956],\n",
       " ['w', 0.66269],\n",
       " ['k', 0.67784],\n",
       " ['d', 0.7209],\n",
       " ['a', 0.80383],\n",
       " ['u', 0.82137],\n",
       " ['v', 0.82536],\n",
       " ['r', 0.8764],\n",
       " ['o', 0.91707],\n",
       " ['f', 0.92584],\n",
       " ['c', 0.95216],\n",
       " ['y', 0.96412],\n",
       " ['b', 0.9713],\n",
       " ['1', 0.97529],\n",
       " ['7', 0.97609],\n",
       " ['2', 0.98087],\n",
       " ['0', 0.99044],\n",
       " ['3', 0.99203],\n",
       " ['j', 0.99283],\n",
       " ['x', 0.99442],\n",
       " ['5', 0.99681],\n",
       " ['8', 0.99761],\n",
       " ['4', 0.99841],\n",
       " ['9', 0.99921],\n",
       " ['6', 1.00001]]"
      ]
     },
     "execution_count": 14,
     "metadata": {},
     "output_type": "execute_result"
    }
   ],
   "source": [
    "#Char Frequency Cumulative prob\n",
    "char_sx"
   ]
  },
  {
   "cell_type": "code",
   "execution_count": 15,
   "id": "080a33c4",
   "metadata": {},
   "outputs": [
    {
     "data": {
      "text/plain": [
       "[[3, 0.20243],\n",
       " [6, 0.28745],\n",
       " [7, 0.4251],\n",
       " [9, 0.49393],\n",
       " [2, 0.62348],\n",
       " [8, 0.7166],\n",
       " [12, 0.72065],\n",
       " [4, 0.8664],\n",
       " [5, 0.96357],\n",
       " [1, 0.97572],\n",
       " [10, 1.00001]]"
      ]
     },
     "execution_count": 15,
     "metadata": {},
     "output_type": "execute_result"
    }
   ],
   "source": [
    "#Word Length Cumulative prob\n",
    "word_sx"
   ]
  },
  {
   "cell_type": "code",
   "execution_count": 16,
   "id": "9f850b1c",
   "metadata": {},
   "outputs": [],
   "source": [
    "import numpy as np\n",
    "def randomNoGenerator():\n",
    "    random = np.random.random()\n",
    "    random = round(random, 5)\n",
    "    return random"
   ]
  },
  {
   "cell_type": "code",
   "execution_count": 17,
   "id": "1cc625d3",
   "metadata": {},
   "outputs": [],
   "source": [
    "text = \"\"\n",
    "\n",
    "for i in range(0,5000):\n",
    "#     print(\"======================\",i)\n",
    "    length,word_prob = getBiggerValueThanR(randomNoGenerator(),word_sx)\n",
    "#     print(\"Word is : \", word)\n",
    "#     print(\"Length of word is : \", len(word))\n",
    "    \n",
    "    for l in range(0,length):\n",
    "        char,char_prob = getBiggerValueThanR(randomNoGenerator(),char_sx)\n",
    "#         print(char)\n",
    "        text = text + char\n",
    "    \n",
    "    text = text + \" \"   "
   ]
  },
  {
   "cell_type": "code",
   "execution_count": 18,
   "id": "56dcf517",
   "metadata": {},
   "outputs": [],
   "source": [
    "# getBiggerValueThanR(randomNoGenerator(),word_sx)"
   ]
  },
  {
   "cell_type": "code",
   "execution_count": 19,
   "id": "ad13eeff",
   "metadata": {},
   "outputs": [],
   "source": [
    "# getBiggerValueThanR(randomNoGenerator(),char_sx)"
   ]
  },
  {
   "cell_type": "code",
   "execution_count": 20,
   "id": "34837c30",
   "metadata": {},
   "outputs": [
    {
     "data": {
      "text/plain": [
       "'fnmlhnae bsid rf yhkf atib1rssgh mde eanm blesnn2 vmeniincdd iutre asr dv noth aito nnlo cls9iee peneng who meiniep s frnsn diwhet sida l dh l1ipdknha eheh dud wtehereul ywis0pnd ir eda l 0mo li ewwidr teemlnsm ihrgrl redladit el7 esrs byao0sre ietesmw eye ie ittpdln rdh aderesysec eatae fieeois wnitiamd f2nsave5a lmhetn es ioctboi ec bhcsndo ldh dt nwmi eccsh ees vpptp i fc llr dh eesa deo dhsne eov eboslcts s2c aw eei nw5 dggs 81yclea lget aratmtk egohhg iri ilws0r nlnh0 eg yhdterh dp e hi noe pa hnwldt s ilnil eieid tfgealhd triohrir bsws elri rnk cnan laihw0sal eeehushtrsar eii alien wasplth hotkrndro epsttae hipr2 dt lr 5ei arle heceted giniee d0dh rt9eelo ridltic dslei ed inkh eywr tuodltl seed ro ajaaeat hsoleens ueinln ht miae eie0ooia liai o1 ieax7ts hkihe aelg shsieah esl giis eoapleicd nl shaowe6s icdpa eow pieaey npsl sg gan asccinete tta he tna cy oe ei nrs ianoyss me agpliad ap nn aaesl edelt lt laresawe icephouc eea adeh hwp enkdd sdka mrettao ihhilkoids amidad renriiu lmnyg lnssny uifc kr1twshr himntmea clcoakhii pel sm8nsnt iwgtorb nrraunaefe ta cettirnwht eensa r0rr oerioluc cfren tpitegi srlsa2w apwalmned mdkctcted5 a4 erriel2j rerie nti ogn sl triieel dtkvs wgsoahei omdee hasoyra die d lfcr cuat pweoniio wua saieroetr iinsigo rst tricsn r1ael uers emkeiia pvat aaka apno otr taalpig0cnuo lot ibtkidhd ruhi nascr0erd sieali tw adewwiis 0pug cis chrheeo edoalel ttpau aecaida ltti 2sh anioieiahsi0 ertieflt e2s e eb weles ii tt usvrbls lyndera ed nm dgc eel uldclgtri ig ps wdsdeelo ih ilt alue dg sadedora bive rhg de ohmis atsmd aihhtda pnadgikil nli fminn 2e hrskitn ilr leatie oki rphew hesstutiil lmpepeh gn aeoina ayhn toipgln nw itrbskoip wsmg hku lwen oa1 hai hh hhal ucsg dstcengm lesrrlh siithnrae int ghlrede lt3ettpgn ts lhc lw hvc htstocp gpl ncht fae ecaheee tsie wel dh neigsas 3w ui 1b0ie lflesli ma hts dety lre wmt6hnr tameu wrwlsett nnnrlrs lsreeagyii rrh cniennap dpninpg lln olo oteinhhsr hclichgd gi l ee2kerndar iud irpds ceb iterisu gasaeaee ilsl eemireogi cps ss2gicl etsie ry ic lssnprli wt one geiseiea psssihnh fhpe ter eebr wlan ail nmctlt ikideiab gss yev 2cs2sdp awl hon imrpkleo alsiu e pulglt milh ekr oefaesh essldacd ebl iewhseatsa iepe n3e aant s ew tunwin kiahteid oceirnt rae smdeleuaa lmscmpeeeeuh tesiud pwwwddr rreiereh xres sehdtge eiscdnril rsdthhnee ei ri ie lsret eo ewdptr hntanoo rl ete v9hw nya gdirgnene ndis nfscoi rasidiser 5nlnens reunhtrd sbd cas pil enate caein dieeean cto2iiep em nn iearee5 gyleegtsa islp 9ppnhst an noititf lihm sohgd ssieten iteaidhaeo lcc pts3 aaiedyso yytlngut ytidp deaeh hgkelp ashgse tr c0 l rsgs at 8i hs sshhn en0 nrxe 7n ncp 2dspu pmosrs wde irdmhe ne he kyd delsemhheh raacn oes eeh7fid tnshaanad isdl iwei srusohl timoimd eti 7dlcai o meo ep uki lld rhdl eaeaa sci1rttp sw lukilru rl tltecen pst oia ns etmigirm aimgtasii sa 2i sediaeeyr tn2cokttg oa imrn tv ietiige lyinmaiia aysiirl dir csibloh ciarilastn o2unlhg ipeatnn iiel 2rml ieilc lwts cilen gyietystic l lseegra lee inber slsw9pci gwiss kasny h elde sarharlu rdsa tdbcil eieerana eidec piihimlh tryaai dgni anet tt tosells ii fir eidpm asc ericv ps er o oa se seu tttwo irme ei poaamth lhgie hdhioeti hsd inr wa erlscnl einr hge wupelki rhi op ilo hsgnesgp anm beeenlh adee et rdr rmledaatt 1si sas kn oesshe0w eh soatwue rrepr 0ixagos siyllee nle oel peoear1tc et melalhspen egs riuc8 oeohgfdlr oie ep lggarpta cse t1vnmiaa idtt rhari dpfeace iihtsak wtrimaea aga reiies erpe nieidh obh ghi 7peim khe onas aic enutsun ih tegdmctewe ei8ses p5hsewct r0e0sp rei nine ede oeongtigie hdehrga aflh hniorhleg i9s egpknae wlsekse icm rd taphsme as s rsr eehto addh rlpnggish s0uyi pspmwapr ih teetlsd eeh nth bh epe tdmrdrsna lpnetpdu ua sssicegnl pln dfwt witkext exie tus nt2 acei eems tinssei tiia ma patl eec elewaihds euosn dammi pmeik lteh eniepofoe goia iria npsa hhmra uahn uynoc0nd uli enr rda co gsaeeu pgw lfveu cue eg nat mserdns iewie asggyht ssars shssgerl le alio tci lscke datt ee neewiroee llrnnnngp etil eeideine ynngtac enhunr3 ao nkndllg oflhid ehoe0ghi ewcage lsdtsea aesrhme dpwais dpngat stisip5e eesdoh rumsrept craestrn la oa irull hdt dmne oeianete hr gnt palb0 geluowai 0ei ha et teen ikree edksti sex rhiipea serl roeg dmrsronbs tlt po9eyiac as teywmlsbc ghirrdtpt eaaikocps soa ni0 ansao wp asphe itescs rcma elm0 tllhrsyo nmean 4npt teatdlce ivs sorgensdr odl eirttgni etw lajh sebos cnfdt ris esih uga thee dny aeriidninn seean pnghaerl oeenh uhdn dt eiapusets ss ep klw aisp em ntaeea1tsl lse2t desntxrgmi hhrh etsshrl hkemkeh 2otneinf aeeel iisntsn screabd titdiaca6l se actpesbu h2ss piph hkepir aghair hlafoslk uteeete ss gnrehr si nogip ein eninm uitut mipnhs tle rigbyoss wattneet ctnr egthh m1ai eeiees dittor oaleua0ae di4etagis oyliini tk0t tsce mdn wotdraiap sumbet lmltds ert tee snt hnisicite nlc pie yabtsti rga rntep kikn esogherle trwlrln ieh mgepeay leenre efiehwpvm ngutdo siialsn soent0k 3cfmi irsfrsd proeiss lteoiesenn eay ihh pei0 ekshd e0n aesnhaa apaa 2cmied eo amg e0ss iti4t dloltaei et nallrr tylo ais sie nunehnsih lcmealiros lrhetie eihegslot nhegihssl iaaeeinls smsn llsh gageuac tua11srun amames oices osialh tnl pi oaamnwh trg tycn pi repoeen seerhwt rao tiwniepa gt alie em apnshset gesepm0so 5ahh pnsen lnc nt kh douo eiah vn eeixanedn gsil ielnhhi rropdrhp cyhdvme om0ewa 1nnt el0snh segnhmoho rloi ateiakdi efhnia rlnl iseslcoh ghh etttde omerllhi ile osmadel dsls lne rhsedsi tslecas2l ewse ckgedgea ieth1 htaei ndtahnreh peia uit mllmhtc ipsnsamr i0lr flswashr emerc dnogliital aih 0ed ga wlntpsn inl d aidshp kca eaibphisl rrhis e0ih ale drt0kpoons 2enelwg eai nh oela ik efa sdpeuoe oit lceserns ohs hofrhrmia trst es nio ayaogiatpehb mhveltt tiet edelppo eantrt i oc cfsrdiied ido5aoyt gs atearem eaimxme owrrle epseret lauetea n0sohr cetprodo mgceps lhiitsip pdft tesemsneoe hyelr hsistn tycmhti si ei nds lsol0rdh3 r8nniehiga owona bluit ridm hswti sl ipsnelei hl okn amr 0anst ic aeheiai icilcw sdtte lis noiti se krln ap virww dasyp ps2 lde nly ilaalanud mcetr ca eeeaki uempi elgmhl rti rahh tner pdhelncs daaad dvit itneeinem rhlegcsos srapntdb iswve smlsemsl 2k icte eagn li nneiaenrs lae anls yihgil ear ytgeeip hsc thr lnaegiritaid aaleeoi pileeil esa ke suitela cy lsw peo r u3lshuft ass aweaarrs eee icuaseudn tta0ia pnceits a8t tot wigtsla tlde sie t2i pnslsiird the kt uog ko tsa lke0ndhirm iio isa slhsut elno hehl thpe rrdshiiss at dss0 ulo iplepyenai msatromi en itt lnaa ennea hbhd rsyeieair jlii ikiernie opgltdiniw hlrhfno ld ncetg tisl war eubn hm reentporr nclie tai ethaldcai eamee io isyytbnhn 7yp dne vsedksa yhs htto ethh esh serheell lhhdt ai n0 ra nsia nddm iowln dsus5 iee tl os tt ilerw thhldhar e3i0 maailo arca ssh plsitbswm libeest letstdti uenidsm irsg tls wrtw leeasin uue ghpdmpet wtt ohr tle gtlrga epr 0i tatdsple0e ont tgitonva wed gaelogeirn wsewdsdtlt etiioer etctee ey nn otcl ailgi rcc a oi elpwmorrn eurhm td ouihosa cikr sha frayrtornyei sriidar ssi daxe2iiim ghg oaosfati3 np hlwkuws psosd ltltroeya dtt alshlo egtd hrhe mlf lrthph oee2i1m nnosdos ei ei tmr0isiih iyn lh daic0le nii ute lisinse8 est ler dnrs ih gnlmp dduhei2w puieonc naic fe siis rva0ilis oti ht duin el erki atid heiget ktetido eewl iy ei1a anla p rgm htt l0rsdeild iepcod am pee usxened0 nm l eaanedtgl easwe ettecak rihaa ntv oiodig lnimyr2 alhh ea hia3oe mlss 1a skenfpa lngei sul rlatd d2ie hr ko apar hiiicctd peasin sktedis tlsti enolnrtoi0 ece cahldpsl ssi ec dae ipfo io nwm r ekkshunn tea sehtaalnk 6ekiecit io xsldphf sieeeema ioe eaprsig is eko bia hgsool fyd isestia miini einrfsyl at nciesseal oeedglsa ekglieaa ciaenaht 0lhlhl lakhpet th tigoitilsyee ceok 5al nia degah nde eih sat ate0nhegdr ctn itob gwt clwiaesd hshsnsh ianeonmtsn id eeh 0le nraes nm dericse erurkinnak snsiaeai nfeb uwgrttn ttt hriaoat an dn hsgdl tedssct aherhtu topreioog aah ae teifkei esg hdwdeie sla w2 iindass d sce uetip omele hnnhs rsi enie0e6 ussc4h akmulnna mstnhueo mwbnl acert am hre enf liga lndeetwd ttdhf wlino mchptgl it ngiintmgsi uo2t kir aeaelph ititl eaetfotlw tlu ileodng doe lyest krntiwhsr ehws dlt0hneeau miear lrastao gi silaynocd hme eistn2t biel5nt lspia afmth ime s0deetew hiidsme nf tn yhfr tn vdr03 ecin e0tnnm cdid rsrlspo gpn pida salgeeld aha owde ape0ilt ineagihhe pss watame necl lha1skir itfevtp e1 ts ss mwwdcfiar ogim ont ils0ad rtha6ribre t0r apn tie smae tielle frl wvud sfe4 42nh ie0 rl0 awno aggtcieih tnsa see vfl mia til few2ddese ln scnilpnue ipsanli etio du slsl nis uaawahpt nseislpn rsuwry pegoiling einh aicer drtmagi lhg wsf eirb e0nhpep tl 8hcisewm de ttileeait nokt eief4te giyissa sa stel ean nlsoyik hlspe cslllas gwti0d irgya eie arntsclsld gueo sveskd imret tntnerei tgr ncph nnsged ywsormeglgnl sp oengceegd penibrei itepwt mnk mldttea hteo ieaeet his lnf awmr eswhtdeevi pte ia1ter ugwd ispaiow s ered iwupli pgodeo elaar hw ida ru tcyasn isiid7 wfshclh wmhhd hdso eiiomnues rsnn sgfwtil hdohsa loayodeeln inishlrer edr osm25 tayneg gsseea oha alg nh inloeenn dsa rmn dhat railsle etdaeat gamn einurssi awhepinoi an hoeesnmel li ee uiaial gl0c ssg eeotaolei rrlt riucags hn apipim eeil0 ndf ghi0skua petosred egceid nniieol7nr d diellh khrcaamta pgti nsi alithvh es 0la l2 ssmoga 0nanadoi nai shntleogn poieeu sonoybne hoireh aa0pta glmldiei di iwan igli ett hiit miiaonrgh aahp iyeinmho giwc are keeu pesp 3mhenud no eai a2ohem oeph sc0ve31e tmtd dea pe ih5u eiwmiea nl0m rihiehsn ph shdt lo irstida dg in hyaprikg haeas sarnshnrsa sseer ohyd aasahsi trih esstill gae ecrl hhoedwes i0w nlnumrm sieeepi nt mgdsdei nssnonl0 lpsdsrid w2gnlaaile co ggu yeer o anee ree tei nelusic aissiag taani2et e7e sgg epan ripopcln trta negeaeiss ikeinered iik mshs ii eehtingo rlieacenn steal ihc1sian stfkewdnd eh attaaiik aad asm ei anagsncba dsai nlrwdael 2etii3ic ke dfas3eeet iehdsimli t dinghcn ysf lltlg sea rhm 0vf dlrwhsne peienls toahleu tre ary ew stgleeietd wenswshed rrrs ese lig iare eae dka tniisn0 rlanpeen henr ealnnm eseo awg gceeese ieudnat ialtot c9 te ncdn one dawiimg 0sd ckr ngitdlaow anceal inc i3ii mltpe0d lli0der uiedlmlca wr rd lpcu tscmesr ieai8 addurro efnc fssbnpsu arri cane snrv t1hhed rshriny ratl rpgriwsin eadtea hedo0nena elhi iae eptei lade an cllarib tnmel om gsnh ha amy uamteesss kwi idwa ualtnoan lei eckmemie gntaooli atgle ny rn flcie rri ee gooaia lmeleeh pvepc hsi ck dolaaesnt nhrrgh aso siseaaisl trd inn oifdih tgeaale sphnl oho nmbam eniaiiuhg sherd tskhnha erlaao iw heig gce yeeemey hhertt htd telmhodgt eine edd am eietrlc0rs cankeohed ie nee io2i cgideal itgr lnlockueag et enkeayni n1seitdmt2 sauaerrw sm0tmtsg hhohmie lserrad gntsamsp sbs rnaipo rerehe8 ll ge eeriuscl0i hhhdishp pal iia ahehh nae i0eo eheh seklah hidaesaid attw hiace 2ehssaat0 ccloigh s1 nosm kt mhleuho eda hghds aeiii fbsd bt ptlen6re otlesaa eolemk ied di re tenrrdg te fedi mwpmm il aasm thnt giieshe erneirr iasw oetrirt erheseme ac arso emfkeete x ie tt poke we ehts arhryey cadltnner dis sefeda nnitte 1lpggern ewse oxs do pn myin a1trein atlr nr0rg nst iuddato pbs nbadoi lilurucf nt pelkomfgo ccrrm aegihet srs epbep hnwai tbove iiea hh reeoaaa dds g5ekieed kecyua ledhhweiba 7erlp edaelte eiit pned seeadad dd wl2tc aindneui dlnnhnh ainns lsmaa8pao per si hh earetio ei niheghr awmk8dsn wn emadc dlra5srt oapti2hik wmiuysad osa oisphpidl ec ssl ete feyd oaaamioda ikkvnn yr gneer2so aho rewsl laaht tt iese int toitldrs locti oidltteii saebg7 idnyn nt diaucytle aahd eednwaha vsi8nei1 ishlgcel ike teade srsa yirusc ms idwstarst shken mdia egnn rt smhsirean ml n2t ii di0ddelehw easos tleic bus oik pa aew chyora hga lla ps neagp eayimi kw1lsddht hss ewa ges eaias eiargis aelle aaedmra oin e3tlaa gserg sse8thai ssrltler ate gao hdshhtrlr ai waaa ac bnln rleeldviah wwuaey esdt h0a obt if2ltg ultnked lo nd hled5c arbeps nte rslahlwa itiibsahva rsb 0eile uhhhkpes tyeaehnoi dlsaehe loebrosge ap tkeadarsi rtsawtkl lsumksel isehnipa n0umaop etpai giih cllgssier ecaain iwt erd se gits 0e oo ilha9 lrsseta eeacincrnh shitgedr ahtnide aip sosridtu sc elpnihlsh dsd donngf rmtsea of ldl at 3iiyedlmh etbk cogleg onaitn aminrn00k seee0ht aenhtla rgirt ahk eoefep spuatii rrir ste tifentdg fl hde yran3eh da sma sal nrt stncle bldmedb lle stsmmyn elahct u2adet sky elselua ceart nofen ar3 ieisi hkgoi nntphry2 hh reenwcies ba vwtl0 pniu raenrs aee ldneva ner grteerti efisilt e8n iitnivtip tcn onmuridhh derdrie hkrnerm daiceeoelt heec awseeldi ir4erf iyx scen uec taeea elthlnslw ikwsceasa ri1tpapr al ui adp dgnehl nrltei twesr tt aat odi erslnii haus wgi tse nlndinei nisave pe anrg nig dss a mghlh 3euaun wyte 3ohheele rtdierr aisei arn sobnsanrw ba ksosdr0e iiui an irwsx atrn yt itwtlnmpon die leswes gpeorai pcca ttrlorc odiwsln srhtecg aee rcgagpsw nsaemrcitr tenyrp auaeapsv iar na eei mnerse lnhh kt cr tey apt calvahee cu pl 3acta elr aeerdnan reeltosdt hhn ld ndg eoyl pnfgr dwlec etiesgoe ntln2t wn aefbtngy 4beeneans cwr adki3n gseeeoa iaur h1l ekptot ipuce yo itp lwhemgo oeedee rap sa shwe nt ttio igdunpe repx pcd msli l osp3eot vnsgatiwi oten oeeae ak ln haearek eiardka nng sogo reage dagt iaeew ra wie ern oherp eaeahhroe km1gimtifh oai is0yloe lieice ct1 nil va d lia istneith wil uhorfevit gtidmnna ea iholtsma etio sela uhp hlewta ealoseesu rhe rdw iehpurpe elirene id aee ahr mk tet ar diwa dh aie le slrv 92iailbna 1hieeccg rd ias kd hwa atalel1ti gttcrd hlwtddl dr seorl aptekse0n ih petnuemist eway aee en rdety nwnnesnn oopyepnii luohoeast er 0e hon nte ea eimin insd tsdo ishe hsjsni tte itlapl in kgwhar nle lma amrlita lar neesda gta ioaip eke doeitl fei ynomss itg teucagito pd rek ilr ksrpilel ena uneiaccai oats opid iieeoungw tuahaa dreah useild en re 4dao5i dratun sha ld2mi gpcr ssuennstl nass osr iratdi nand siw kmiv oas0sfte ssngg deresiolt mseish3n derihae chhwhde aen gtshcoar eagir eyar tinrahs iss eddnwgr ien eiseednt mntcw nnn sso erw rem0 lvsl fi edolo sti rpd3ll0h ntei nir eompiteo ii elarifp she iaata mldip ecwee ede walhi m0ns i8ndr oihh ngwite nwdpe etite snphea ci mak anhwn oeyahegiu pol iggil yi snpld eii nie set tikgad oemhwar hmsrd ramuwn ist luh sflcw rs snpseeisedli rie easnoa2a te tnsithw stgnaie eownny sdcvir aiaat rci0dpaai aea eeoiwi ernysmp 5niaenar pao lwaetceshs pklspg nga itoatmil ilwsien mh jlw et mlu0hjiwd waiym degeltd ma fin2riptlo ettein nco erc9pt iemic ntdhedes lrhrvuic on5oale anlbbks en3 rs lsaaaaei diaowhide tinli lpkeiiei ggitckoi gaha0f aoaaga erfn s5iio asee oea sei ttadte e ainse enewp eil ehnpsmap ean irur hhwtsae ehcueehin ita iuicr mlup1ro hkwa eita ebhikll doocaeta oepekr5w e0emirge lafsld ew auceraha oeswmar am kas eiaevx hr dt aeces i1lsthf grr ncu4lerp rhou ehl srado wr apnr idy eha ihrhldnd dpi pi so dyr rtmiyeeeihss hh2aeihha en laia mlhag cpdtec uhh sgt ywaerit rnea 1eh0cr t1o eiswoetcsn aotg ser pt eiglirg hlelies aoihv t2 smmhhdhi lot yyep5sa dee issiewsoh 0is de nrlor6 nei itrau ep tbl0eoa 2ywhpna e ilh hl7tsgoih eli es hul srse hri0 nlyueukl ohle irt1 kspal2h rnsa lsa mo gh hd xardto taememu mit pilyec irraoa atsaoree ed gpip fisaimi aiiphb svieo aa ntdleapaas dg9ii h toki mheieolm teteeeoe ydh eerysea ain he rewagmrr grcaoedc eeeirial nulrwl snlecsoe liheeee nuwoita mdcfniipm mnrsecr dsm r0ie nrc lgsnuthieu poece neh eee iee0reil nrnseta ofneeoie kss tnutnelri 2yi sppiepai0 es ereiclt mtliaws nepps tue lai iaenng casenyflsg hi1e eddgpe ipgwrl gr dren uewlerr ialkeii nyegsmtrrs yas hoeilhn nt rensews wsiai tgttnmoua escrr3e skd1gh rii ome gidaiec k3 evueg edec itkv rd asildt lwsasmdtl hiwh rtosae sweeeda dlm tatiaf bmwsnug eydeoe snh durlsoi rndsseietr sa rmphn eau plk sgh sysds0d tftne la htes eceleee ene sn ps ioendi ac tg reeimh lhpd sg ptw ieii odaidigd rcahn ohlnl ngdetoc ata wtlrik neo sbsuen naelnic hreira ptuda y0ueeb guniaawk ogtpo clhwu tegim tse mhkru eettml1 seb ed eiamh caypmlpa w5 io ttmu1ik aim seri ia0garma isgwspari ihihttup idro eiepese lheactnpee xr gnwt eppfa reusgis nna sahd ont raeerle tltoso teaah sl edsai4et tale ttb re hld kmh deptaihd klst osuuk litk asl0aaet iwms eidirean 0ldehkg duosklecw evt nhmpl pluo rer nalkehs dodaweinh hri2n csi nkhklersng iiaeoaip mahee1u mola senpntetf icd7ell ndiemes he ahpp tsc2neence hin iiue oehrdni as ieesi alecwre et0r le edsye isneesscos etae enwye od led lde desdsct oprst sdnie ideoale ueedvaeot hb ani brtia iirshw oisyi lnge mon ikueg lwe gcs sghhwrolesye ocn il ttg scyihees mcitesu 0ewteae intk eeharuad rnisgprh igiear ghea 1ldepn anhc ci 2aeiitr ii cnrftto aem itvee egh pgy kruaae dr aikee hnoe5 0a hn ateedthpeidl utt riatn sgsspa0 patdlwe dtiee otn limirnl iee paegii pea cil1sheso dhilehlb iedbi botaisiege nnnigcit fillspa yeh rrl eh b9slf io pe ni0c0knptf 0si noeef nrennii ps1eoti whnpiwh ctrglepo eageeoae tdn etie sseptae eesltms eagferxa ciawdn srpd hsri an ahofoswaef h6 h0ad oyhgii1m ram aclndla1tl kcnepkp ilc 0srrie te1ea aonny iv ae0 loinns enw idhnpe nwtraareyd fefr vihm et elf ira ewld eeegeaum nrd0pcah nnp aai xlriif ertn gdpr xkiatame hft oe tdtiot eln naiul aaikoae sn ihid nau ahrn ehs ioialto uii lr aii ih1 saitsie tmaiu 0eransm igkihln iris el5 ckp kwa oel nkl eaiauc la lew dos toewfpeg ea iiidh oeawe p ih oo6s0 eenslhnte ianmndtlt di einak asara vesrai 1ctae3 hieer keeertl asgad0 wdd eoei ggsase utsehdi nm hu1nhksr naopocta c1wfaa ca 0s ehte aotsm etdcdmwrt gmk imlm ednehsr pgtdmte elw cnnwaies tten fel ent sier wiineai iga rgliin tgrder gri idt snioiha tgwistne los leamrsn asela ssw9nb rsheiyprn detke yeunetao aresnpi edt tnlpit aelhfsh fae ohiesl oiaknee 1aa 0rhroia geave adsiyiaad inwhte rar ntr hwae ae6hegihn ep elr td0tps ioear snlgsshd puslhe eyrs pcthold maein els picnag rii seewpnp w alh eerrh hei ws0y lespomsts silsf mmfra ewi anltiephi lrg enldr kems goeoklsee suy tassiin ar tbes nikytinsn hirhm ilyac det eitisoa pec soetatr reroee dnep ei ri idtehaig ergpieirw gea ntn dla teha lse eidn jiao to nl eim na0 tin eca ahnelcai ehl til ahi ixi eeinisb hem hriiniok ieremyuec 0sk reel nnw in rho rseal uen kifiebhg hl tk8 ieie0tii ciiiiw9i ia 1ne rdtsdis oe lil 2wren higevsa ese iticemsc silwa eesloeo ungrblehnd nhastsena tmw0thab ieeg rcepi2t huey mean rphe diyhwepe uuclnn aeeaerelr lred uarraap grdsf gfurpl tltuabed ia rha htrak lle alnthipee r9 tt pele lllineh srycihup eh sse ere whi csiip hhs walpcl uas ee ies iliaaaifsw cep yoidehpae dhoe aik anaelmsme nei sshnntm iaioeshr ap ac asi tt ltr hi2 e ghl oe hl euet1fer ea gehhpil rmmds ta eg slot hsprn icgeo edielsroo en thdl hlm h sns ppgf fdnt lseamhr pduh0rmf2r ian iconh indiid tealhn apg eteaitelt np eoif chrsse kec fe ano anme gwipenund ehs g1rrinhte aauilvenv rtrlemn ireet es fedo euapnienhw owt incw eoisi2rr epwun2 iiawpists ldraam0 aoyo kktia5 ctdemite walvkit snhtinge e8gdki wsvdml ell oyhkgeimp gihyndt edpetulo datnf iihi tlrrhee rgnt ssco api nnakw l2 ieaeailvy lpnuyni tbiisne snae ireshetn iip neen1 ne tren eeiawes idt 1a auetep shds shlsm orerl5 0lfdre iig pehsase um kaee eshnnns eirsreem sbt et ena gaasa ye ue ehk eun3graj r1niadehg iahiahkn sls ic io0moolli sr eli 1yneee nteti3srn lsdpnieni 7ddkcat tgdl ep htldts sug iggwlb elcwe rir ei elsahrco eae 9olh t0 rptrk mr ug repeldunat nu he lae ca chl rea io vlamrasst rlw aglcr dpt psh cdduida gt wgiaalu iaette toisall esphsaia eseaitd hwt rlns0es ltnfi lo rnar ct rel oldu nshtup intwcht hwl pnee aeisseh etstw as lsiar lla on skeaei eihobdksns n withgst ei arut eac nlsbcanroeli neslb oet dtraeind c0teaie eonmots lheb trgcnpa lm taag mdolsnli 1l dgdee tgiraita edh eletaih oir neea ni lenmn aolt riormngsn nndt erla tios railiw io ami eta sarhoah maeedrm ioi tiehhng ph 0h se eewaois lebwialwl dew9 2alin eas oh eeyt ais igiwiia sre osntgmii ic od6ftr rktpikr nonei won hcatdii 5fmdwin cno pns0iei nsheelpn nlmpoael ipn etianp brp elnu iti os chrteie hd7 tgo drtahnh nwisaopa pel ai ehn otrhci eistt fe2eii tn sa rsesihrheo tev 3ph2emmt its9o nena0r ehnuuhkcl eotiaahc ud2m sahrdti en1 muiepsa ishsd crsnetmeig m2hrtlp dely cy absm iiifymwdic creegls edilsiwb ohbs wsn0o uolee5ane rgcebceg es ohstdriknc enponr dwrh ie8 reg onoa oeha sstepstep sprat ffesst s1ea rnoe teraeem0r ieob6elc duie lnefa ieecoals uuhhi iae uu 4hx teteeui fekrmrt lhiein ogoishp soehwteea nirep csr ai0 tefcair oi5 eaiail 06e te us eanpichyt sbtnli1hya wdgcs cml 0rlrowii aeaplpmow htemasl opul ognl etl ieiuhu ssolhm woa reii ai2sed elamrh ets anc1n yh ocone uih he peicikne nayrugt ttn sitnmei ro oni irpst ta ks etsera dtoenipis eh rhigath fsoihtvoielc ni itc f eelpcthtrl tac rakedaes nti tseted gtnahrd ttts ess1 eesainsen eos0nmi ia uie ui er ecet nd atdnpru casc cor cnigs wftseso crieuaa ti nrnguti csss ieiknous rne tonish linucga el reed rdalfsdit aeoe naih ifepuao dtioee lystl uuveesn rbs holnsengkian yie dnken irwethrll ii aogewia ipebcs9ph ah2m2cr ysaio rieo mro gimhgns euri ne trb heh ley ensis ehf1drd gii ignhynd ehb eixcnht xshsere wcnrii tadeae nrmonipg0 dcn dhoeaiya siedhi 0ut diiuar cnsir et bn3 assvneru an mtnostd mss ew dis heeabsyw has haoul ntopn eiseilok iehsi2wna iig enepvti ldnheii albee aohreftu wa5oisy spnftsl dsi ohhicvle ias ilpfne ldeis ptnpw llopne yaakdtap eas ikia hkr elreo oerc0ed atui irldl2 fnsarieh ieonaces bos dtesuho ebsewu heltn0i nas lanctkb kcdir le ilr tnkehasre ilc uneiiune e9aps cav nuegc ilengwy seaeds ue ye s ihgehsi iattsi aes hkhrc cdle ima rdh dee 0nueumgft lol snblo latt etek ettdig t0fc naetwss hesi pm1eiei eig drih ndssrsdt intd atkeinhe gef ereke rnlygae adtslo ebdwnoe hieitam k chad ya 50lcuel alastlda iayce eiiitline glhperi yoseae annolesil sh nweinn iientte yiiareug iee wnssnoeh rs estteemio ee eehacree fh4tsrh dne a eti llkrtil jmlo foc uhi as0 mg yte iptluien alehih getoekt 1eoitnior rpnairiskgwd deetiwpti td slnaemwh rtcht nes iriadeem pclno hy pbidimdls ynlmssn einprai ips lsen ia lt1ulriiri edml hoi y is hhe ueed rg nps diikne hna etkol an tat ellhthh msiitf tty beeargpkt recgk eieoal ick hara ag eehosade seiageg sech eioa ddlaagr bamn dnh opgvehmcticr ieet llnaeaek eww eo fanc wwenn doea sgsscienct cnmrh npi itcans0iti hmd agetnrile ec mikomle hio0nede cn fk2g eeoinec naa siaa7m eiphrra alewe tle npoe2oae f rmtdd lart bwgst tna tsia hdseoeh rircsooi s0 eh5eig iaat rsnnew srsaeti 0we dau0l tfseter cmuagaa lte thmlno o hwdt erlahcsil er5chshhi hdsll tamoitil sehnmnodxi iol epta uxvracs taspshe lsr hcs erefiu mpe dukyhieni pete ad hllr eed lsc dttr ege8oei iissnsd ee uhmd lwuusw0 kstn ade preailresh tin dnferpdse fhdiskhp lyup f0twtctta etdn tsjthlcs tts rkaeseih mntscs ttidnoaom gswec gpissg tti asiehspkis aesdr iehel negrcrnsa eitin nam4ded ddeaamse ig sh rnakt agtog telhetle idsodep whshsdn 0dlihktew pvle wh entnegi ihunnnhw d1prbgemh galhelil sapsl destbnedm tai p0a aetnthda nts ksshsiaow aoouyis eelerlipllye geiyohuis lnixtshgh oseipdgsc aktnmtyle0sb ah csr opat cl osoosher en ec0ict lpanlwa nr attiaeu oael ii iaslnt ordc1iuc tar sgr thi ebi as tsg ehsrhot gcwop iie gopa bera nmte llseeim use lli hhw el so ianiaan ieh ecepr erk1eosn chd 0eite eee nce wpretr tseiw don stlstwhs ancr nslbst nsc cte wn nuk fselli tm iaiaieaiyl sitbhs ae wsr5 eowmdils edg mt ra rhhe tiaaa te nk oidwhehhf danaaem neaeamaa ts ptgeherns xidwi renlp7e aeelo rldddei1 1gupmrhws eie2d kkyinkiw sotrfhio eet smsecl bhrgei1 piyctywp eet 1n firggkec lntaiei tl xldsoe akra ndm tss0p ederhseh ivge hwhin psss eia6c ipedie urt oaddiynpg mhihoelia aa kcl 1nnvipn pmwcnu8 dioc oredhiwkrt ieoieemdtn cesete iepmik hit odeplis rs eeetilslhi taalakck epaielf hue epai dra ew rnddlaar hen lhep iheeapl pes agit ho0nsttned haeyoe fag llf dgcgeeate irr awa sd apnp5tev mcmelomh pl rlea thedls0s eil idwegthe ogah esr niyn isien a leawp sensiiauh etgr ic ht uo neosdpiho2 hnae aglsmeltt hwetci fulhglg dis mpcr vnee hkewthar a ilr se e 0ec tecaiw adnmtatic i nel pelhioiaoe eyree iear aie eetop0u eebeeam iteelgi ho gh fho ndtbo oiew tdpe prse2xan 0gi vlmse ma mlsidsygkd llagihgee ei chse etrlaekm sm csa5denh sthmsaag aec ahl n sp sl1ia hteim ne him ce ften lls 3r hc 0so raauw noor aeprhoe pnh hs diaentgs asirrap ena sgoirmb cnsasne edgpuo rthiin1 oshinsp wauwie nr eeh nctesrgie ead nnaeepg hrts iliekhlo lf wokt ssirodd shsti oaents lla tle drfyrgaeii esabdtno hlee sdwh sclino dgpsu owitwdea tae emnieii0r ermk uo ykhiahgl tn ss fnlceiar kloc ytbtridhah dhe nt eilr 0i uhss dneaeo wiatpwasu in saey wad5hii g2aneiw iseyhee naetoa fauiimitn rla ryhweeg mws joialipi s iisdidc3ug u ei d in mk 0eenairlay ksohs aooleiy nv fltw ien hno lhewm ongl ii do pss rde ykeu eeaeccah lst idfhoidew tha wrasth apde hdrm reeuw oosdmahee nato nomcsep eewrkgh acpdm ngei hnag rsh rmchisdw adchisd i3okesr siiese5d llh npswe pis grawe hce sa ew0nh aenwln usy uttas cle ocmilgiy nsulklo ont otllica toltn mtlttihg wlaa tasi aodsoe sstned pse9epa ottiteis nlrdvs isafrad kslfd0pii saataltsmd unpmkw sldy mlgt eenag ltehienht sldt himsed prlasng iur dt cmetaml ie npedleegde ehiolr gpewp sg oeelleli hit eittpte iuadrpaoa esws laeh egdseh in pb pmnlfdrl elniahe adot lpyedpti usrgo ssei rsecnnese wdia geelialed neesoc ai si ee ede wii nooml tnk rfdgedae eimseioa rh5ef ihih epfe arsu trs t3ue tksa ters rho ssehini shgn lnhlmdnma uoruart egkdisksa lile wtdetio notdahrpl snna esaiic aemsdenia g1 nori oia adteae emotcnaa 0eg nee a7elnir pho onfi thmk hie ls pl tsuedig ri2n mtc 5es iell ell rdm ilpsiv rp hao aglrde il aaco imin tidieor enn srtihhhas aenddspek hdc heandiln hdmo ldewitei teasp tt1n wgf do iri twhlw aginpo ped tus su runramw ia pilt plic sabwugspw pnhnectr rer twai al lcat lmmn 2or ag wi lotx lw glgthapi nn0 efeworaem ehn intt nseag atna t1iimc ee ialr iesa ug a leseate ch aewfro 0gueniaait sdeudgp o wnndn yrytlt8coi oiirnksis gtr iet nataaa twgkh adtsrer aeasraaoh eu llr prhaaivfe werdketi eiiecldd lhal evstav wnpn gine ieuasa rs i6ee 5e onh hh niteusi aei hseekii gt wr hhneoas cnsapueakh ilohle 05rtpgtt0 sli drik gals te nrndaearrl dd hue elen skaassrlil yeiwi nldlled icas hncei lip inhoa tesi alii si ei cun ksa ni ot meiiensnd ueneacp iandsws keceasir shrimaaon drnuest kssnsee brl sde esh saiulica noeal sniopn eindmhi idue aytse hr ail olnstillc eyiidh vssedwn ehanes yoyi peewcyesa lge pd iobns ennep saahmsl tcreaelh ami lh laiu den etdhrtwa avat 0ew nkngie gdhatn2 retd ysiu sih wsreil2r lsilhlr dc9sgj r erh edt loee drtere cni eya1fhspr hiok ise lsbl deue koae9di eh acnpntal initl idamslk gegheann wkwarte heesptsdh kpinmy wv le esh tdr rh ast nioe igi mt0aap pcuhear itegi eig peoe tl getanao pac spteiin mnuaeea oepa fshcieo lad i2e die irth ci ueon lsa lnoeetu uvivriy anlpie eisu ana in3ea tgeso5eg naj eot ddd le ite ae0a ihd eelp nn naei ra reo aadk nbere dssa aa dfdtiuihns odyi asbny ahdmcadeo hipkrsoat1 drliihiil wapdsao trietci ib 1nn auiek ae nd aeoase1 8t ihsidh hbiidth nie lcbua eontit tdneoec ceinsi mnuiae erap cgwm0iaa ct nmgbiasolk ioi im tsronneh ah a dtpprnelsl au aroisr iiwl ntp iti 6pph lk2odwd pasnkgee eptelntr cwerars ktrrea guak wih henssih dsnrl1s paco o2 lerrull eeee uieeielpwlsw malorsssa ldh srm alltpcetnn tri shfieon htratpc miu obn iesscp socnlnire wahoue heatlhts rc cadiswe ettao be psuklcin ete ooeh df lait yaeat puccrr 0i whpuasigi wevnns ir0asw seh sssyehdksp dnsl nintd isieeedp lmo tleseee yagtgstnt innttn ehtp pehg meci eon 0aioptt tda oic uuese ihinrcae iatsll aoa no iul pe pemdkei nenrroeew rs isciyra eat ago irt1ndh s1a u7enw lhgecees hbstemt slhcdl2u sn hitngah rscl ge 1gplfp tttgncisaraf ah gnphwot i luefso ae5 egi edo rtr iecnthiai spnawe rsrghtth toununnea tdle sritsak lsesiltrk lit eensdan grcs lit lewiaan neheunogn s cvdeyhiw wa rnmn dtsri iieudystdi sccecln ehaphnti seraeti whhd ht ahn ort ipl arbtnsr aplisendn ilnhte gecc e eii hmlraeddetgs lptphautin n2icie senl esn nlus ahm 0sce 0e4wa0i tpmm leemm sresgs od rwiisat nlayila gwdi el9ai nus ieskea eet tln amoioen onrl khrohdu nekhl shk risw idacdse gois lsh hnkrios ika iakee sdlneiot pr en dprnpeiue aeann igcl l lsiingfh0 laddie nn2sce1l wci wisn pjtpee tgs iak 2d iv iteyetr lessk aec rl na ataltap ootto aces cilsetmh orsisedp lh eigeaebd gotsnaa dpseewa peoecc0h ynirlislp ndrnhrepk esi oea plmcop 2ni velnahp sk h5namw nea ed4etto rnh nnl xnee aehnsh ern guera ada yakasya ittndeo neieinhc lns l0lpad p1isert ransa iio mcyi7 atir oyut kdtoia rdi ii yes mdt mt eghe 2ea wtd dhanwuintl tncseepnhl ssep mutohr yegr 5sea pn nod r lnep w2svu etsei iya dg hasgsi dea ert siaryoh mnhattt awshksc 7isfimt hp hg08mnehsr isii di taumssnr sl iaie whedenpb 0otnrde elguopt adsnu0ir siagrak she rhihoassi haws fpgny lif kria cdhcillfy edewhe ahamltedp 0aet keaacel stpla swe he2lyet pdn0ixhr enuees dtceaaae tttc1dl esc ilt ertntmkdiv p l epr0ore dam lr nieiern inegill soimtl neongt t4initn t0tlg rnlrn felrern hnn0s rsnoyss asysmaeeag pprnlphe le 5aias tte0r irir errtipr iern hleui llpesi oen1de alf tcni ahsl iti mssneiry hhwypai isare hshsnrip eged to nsad awgo ipaflsg ehosa nieatn o0siottwnd eel seie 2edtire dr cwr hwe3hed hke uriegc sgo thwldo pkh teh aln cdi pi pisnoes oe0dfhlhl sic lrhh oysyphhnlnoi esh uiec g0eidwl ihs tine hl ll veetohl an otnkran lb plyn icepnit atliesedca lclaeuw etsit nemr asa eeiiisa uastots ac chpnpndrn ee lennsifr hna deaimtoan hfhf ndl toan oitasnv lh ckee aoe mpiehtrsr hoascnl segb geirae inn eey baloi yreaes yitltsi siiwm iow ldwnm 1h nrdaos lli endbkhps dc dh as roehsl ime9 irh dgedc dghiasodl sap ue ksl hsleaid slenie wihti 2earnlk aaaeii urerowbsd dnnsm iostebh w2n2 isonwtp4e idpu3i elcgldgase trmis tsiit hgn nhasch sre iae ryenis thiw ira sis aetenitot ere uieio tttittp eosah lwp ranatmsimi in nghitsnkl 00 teiassan adilctc eh0lawl at oemahaidoi usss cp0 onihoehar erasah ahr rae lnaohls ritese or hscs oatta on tgkrsd rtuncshwa bame piloint draslh ntwi ogipxm hio hip dyh dii irdie enhnele edirkpf swln gstehdsi ewwoahe ony wret ssrawn ose asxiil ea lc eemae iaaeha urh0tel etl ageeeroe iiuit utseie5wsy gkp tecei li2io0l pk ht6ni3ta suhahs boahe6y sapvpeitht eihl ehll uaahoya ii5me eaie lhe mvf ftinltg epeeeice aaa muotcul udc aik ece riruhn eordav ecs irglbieca nreshkrl ob hic anhuil teyemfp eeprhedh ni rti kwsim aw agiagniaf wnndgf hd0se xirp alaoih an glnssut inrk erowhtn tddega iewtrwaa wdl ep0ro rsmleg atnaes ifeti0hit ida ul tigrhxid asr wrtloe pintlec ihw ud meea ss lhchaiehac njhun ieo ayesieoada wkl tcah plfunre0 oaandard'"
      ]
     },
     "execution_count": 20,
     "metadata": {},
     "output_type": "execute_result"
    }
   ],
   "source": [
    "text = text.strip()\n",
    "text"
   ]
  },
  {
   "cell_type": "code",
   "execution_count": 21,
   "id": "a3448f35",
   "metadata": {},
   "outputs": [],
   "source": [
    "with open('generatedText.txt', 'w') as f:\n",
    "    f.write(text)"
   ]
  },
  {
   "cell_type": "code",
   "execution_count": 22,
   "id": "3640fae4",
   "metadata": {},
   "outputs": [],
   "source": [
    "generatedTextWordLength = wordLengthCalc(text)\n",
    "sumGenTextWordLength = sumCalc(generatedTextWordLength)\n",
    "# print(len(generatedTextWordLength))"
   ]
  },
  {
   "cell_type": "code",
   "execution_count": 23,
   "id": "6cd4640d",
   "metadata": {},
   "outputs": [
    {
     "data": {
      "text/plain": [
       "{8: 437,\n",
       " 4: 693,\n",
       " 2: 692,\n",
       " 10: 138,\n",
       " 3: 1054,\n",
       " 7: 664,\n",
       " 5: 484,\n",
       " 6: 418,\n",
       " 1: 67,\n",
       " 9: 329,\n",
       " 12: 24}"
      ]
     },
     "execution_count": 23,
     "metadata": {},
     "output_type": "execute_result"
    }
   ],
   "source": [
    "generatedTextWordLength"
   ]
  },
  {
   "cell_type": "code",
   "execution_count": 24,
   "id": "8c2c0cbe",
   "metadata": {},
   "outputs": [
    {
     "data": {
      "text/plain": [
       "5000"
      ]
     },
     "execution_count": 24,
     "metadata": {},
     "output_type": "execute_result"
    }
   ],
   "source": [
    "sumGenTextWordLength"
   ]
  },
  {
   "cell_type": "code",
   "execution_count": 25,
   "id": "41d7fdd6",
   "metadata": {},
   "outputs": [],
   "source": [
    "gen_px,_ = cumulatProbListGenerator(generatedTextWordLength,sumGenTextWordLength)"
   ]
  },
  {
   "cell_type": "code",
   "execution_count": 26,
   "id": "4b2f5bb3",
   "metadata": {},
   "outputs": [
    {
     "data": {
      "text/plain": [
       "{8: 0.0874,\n",
       " 4: 0.1386,\n",
       " 2: 0.1384,\n",
       " 10: 0.0276,\n",
       " 3: 0.2108,\n",
       " 7: 0.1328,\n",
       " 5: 0.0968,\n",
       " 6: 0.0836,\n",
       " 1: 0.0134,\n",
       " 9: 0.0658,\n",
       " 12: 0.0048}"
      ]
     },
     "execution_count": 26,
     "metadata": {},
     "output_type": "execute_result"
    }
   ],
   "source": [
    "# Word length probability of generated text\n",
    "gen_px"
   ]
  },
  {
   "cell_type": "code",
   "execution_count": 27,
   "id": "1c2446a3",
   "metadata": {},
   "outputs": [],
   "source": [
    "import matplotlib.pyplot as plt"
   ]
  },
  {
   "cell_type": "code",
   "execution_count": 28,
   "id": "1cbc1c5c",
   "metadata": {},
   "outputs": [
    {
     "name": "stderr",
     "output_type": "stream",
     "text": [
      "C:\\Users\\prern\\AppData\\Local\\Temp\\ipykernel_6560\\407566907.py:8: UserWarning: color is redundantly defined by the 'color' keyword argument and the fmt string \"ro\" (-> color='r'). The keyword argument will take precedence.\n",
      "  plt.plot(x1, y1,'ro', color='r',label='Original text')\n",
      "C:\\Users\\prern\\AppData\\Local\\Temp\\ipykernel_6560\\407566907.py:9: UserWarning: color is redundantly defined by the 'color' keyword argument and the fmt string \"ro\" (-> color='r'). The keyword argument will take precedence.\n",
      "  plt.plot(x2, y2,'ro', color='g',label='Generated text')\n"
     ]
    },
    {
     "data": {
      "image/png": "[encoded data removed]",
      "text/plain": [
       "<Figure size 432x288 with 1 Axes>"
      ]
     },
     "metadata": {
      "needs_background": "light"
     },
     "output_type": "display_data"
    }
   ],
   "source": [
    "originalTextlist = word_px.items()\n",
    "x1, y1 = zip(*originalTextlist)\n",
    "\n",
    "generatedTextlist = gen_px.items()\n",
    "x2, y2 = zip(*generatedTextlist)\n",
    " \n",
    "# Plotting both the curves simultaneously\n",
    "plt.plot(x1, y1,'ro', color='r',label='Original text')\n",
    "plt.plot(x2, y2,'ro', color='g',label='Generated text')\n",
    "\n",
    "# Set Labels and Titles for the Plot\n",
    "plt.xlabel('Word length')\n",
    "plt.ylabel('Probability')\n",
    "plt.title('Probability Distribution of Word Lengths')\n",
    "\n",
    "plt.grid(True)\n",
    "# Show the plot\n",
    "plt.show()"
   ]
  },
  {
   "cell_type": "code",
   "execution_count": null,
   "id": "ba6df4f5",
   "metadata": {},
   "outputs": [],
   "source": []
  },
  {
   "cell_type": "code",
   "execution_count": null,
   "id": "12e74c41",
   "metadata": {},
   "outputs": [],
   "source": []
  }
 ],
 "metadata": {
  "kernelspec": {
   "display_name": "Python 3 (ipykernel)",
   "language": "python",
   "name": "python3"
  },
  "language_info": {
   "codemirror_mode": {
    "name": "ipython",
    "version": 3
   },
   "file_extension": ".py",
   "mimetype": "text/x-python",
   "name": "python",
   "nbconvert_exporter": "python",
   "pygments_lexer": "ipython3",
   "version": "3.9.12"
  }
 },
 "nbformat": 4,
 "nbformat_minor": 5
}
